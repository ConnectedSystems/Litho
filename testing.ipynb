{
 "cells": [
  {
   "cell_type": "code",
   "execution_count": 23,
   "metadata": {
    "collapsed": false
   },
   "outputs": [],
   "source": [
    "import os\n",
    "import re\n",
    "import random\n",
    "import gensim\n",
    "import numpy as np\n",
    "import pandas as pd\n",
    "import nltk\n",
    "from six import iteritems\n",
    "from sklearn.cluster import KMeans\n",
    "from sklearn.cluster import MiniBatchKMeans\n",
    "from sklearn import metrics\n",
    "from sklearn.cluster import SpectralClustering\n",
    "from nltk.corpus import stopwords\n",
    "from nltk.stem.snowball import SnowballStemmer\n",
    "from nltk.stem import WordNetLemmatizer\n",
    "from sklearn import cluster"
   ]
  },
  {
   "cell_type": "code",
   "execution_count": 2,
   "metadata": {
    "collapsed": false
   },
   "outputs": [
    {
     "name": "stderr",
     "output_type": "stream",
     "text": [
      "C:\\Users\\ifue3702\\AppData\\Local\\Continuum\\Anaconda3\\lib\\site-packages\\fuzzywuzzy\\fuzz.py:35: UserWarning: Using slow pure-python SequenceMatcher. Install python-Levenshtein to remove this warning\n",
      "  warnings.warn('Using slow pure-python SequenceMatcher. Install python-Levenshtein to remove this warning')\n"
     ]
    }
   ],
   "source": [
    "from Litho.nlp_funcs import *\n",
    "from Litho.similarity import (check_similarity, match_lithcode, jaccard_similarity, \n",
    "                              calc_similarity_score, print_sim_compare, merge_similar_words)"
   ]
  },
  {
   "cell_type": "code",
   "execution_count": 257,
   "metadata": {
    "collapsed": true
   },
   "outputs": [],
   "source": [
    "def labeledSentences(tokenizedDescriptions, labels = None):\n",
    "    sentences = [gensim.models.doc2vec.TaggedDocument(words = i, tags = [labels[n]]) for n, i in enumerate(tokenizedDescriptions)]\n",
    "    return sentences"
   ]
  },
  {
   "cell_type": "code",
   "execution_count": 3,
   "metadata": {
    "collapsed": false
   },
   "outputs": [],
   "source": [
    "root = os.getcwd()+'/'\n",
    "file = 'reclasified.csv'\n",
    "\n",
    "DF = pd.read_csv(root+file)"
   ]
  },
  {
   "cell_type": "code",
   "execution_count": 379,
   "metadata": {
    "collapsed": true
   },
   "outputs": [],
   "source": [
    "stopa = nltk.corpus.stopwords.words('english')"
   ]
  },
  {
   "cell_type": "code",
   "execution_count": 396,
   "metadata": {
    "collapsed": true
   },
   "outputs": [],
   "source": [
    "stopw2 = ['redish', 'reddish', 'red', 'black', 'blackish', 'brown', 'brownish',\n",
    "          'blue', 'blueish', 'orange', 'orangeish', 'gray', 'grey', 'grayish',\n",
    "          'greyish', 'white', 'whiteish', 'purple', 'purpleish', 'yellow',\n",
    "          'yellowish', 'green', 'greenish', 'light', 'very', 'pink', 'coloured', 'multicoloured',\n",
    "          'dark', 'color', 'colour', 'hard', 'soft', 'water', 'supply', 'fine', 'coarse',\n",
    "          'medium', 'bearing', 'pipe', 'sticky', 'tough', 'small', 'stiff', \n",
    "          'running', 'streaks', 'nominal', 'bands', 'back', 'slippery', 'loose', \n",
    "          'broken', 'fractured', 'surface', 'soak', 'creek', 'ridge']\n",
    "\n",
    "\n",
    "stopa= stopa+stopw2  # add the additional stopwords above"
   ]
  },
  {
   "cell_type": "code",
   "execution_count": 38,
   "metadata": {
    "collapsed": true
   },
   "outputs": [],
   "source": [
    "# stopw2 = ['redish', 'reddish', 'red', 'black', 'blackish', 'brown', 'brownish',\n",
    "#           'blue', 'blueish', 'orange', 'orangeish', 'gray', 'grey', 'grayish',\n",
    "#           'greyish', 'white', 'whiteish', 'purple', 'purpleish', 'yellow',\n",
    "#           'yellowish', 'green', 'greenish', 'light', 'very', 'pink', 'coloured', 'multicoloured',\n",
    "#           'dark', 'color', 'colour']\n",
    "# stopa= stopa+stopw2  # add the additional stopwords above"
   ]
  },
  {
   "cell_type": "code",
   "execution_count": 5,
   "metadata": {
    "collapsed": false
   },
   "outputs": [
    {
     "name": "stdout",
     "output_type": "stream",
     "text": [
      "(130085,) (130085,)\n"
     ]
    }
   ],
   "source": [
    "DF = DF[['Description']]\n",
    "DF = DF.dropna(how = 'any')\n",
    "Descriptions=DF.Description.tolist()\n",
    "Descriptions = [str(n) for n in Descriptions]\n",
    "\n",
    "#use extend so it's a big flat list of vocab\n",
    "totalvocab_lemmatized = []\n",
    "totalvocab_tokenized = []\n",
    "for i in Descriptions:\n",
    "    allwords_stemmed = tokenize_and_lemmatize(i, stopa) #for each item in 'synopses', tokenize/stem\n",
    "    totalvocab_lemmatized.extend([allwords_stemmed]) #extend the 'totalvocab_stemmed' list\n",
    "\n",
    "    allwords_tokenized = tokenize_only(i, stopa)\n",
    "    totalvocab_tokenized.extend([allwords_tokenized])\n",
    "\n",
    "print(np.shape(totalvocab_tokenized),  np.shape(totalvocab_lemmatized))"
   ]
  },
  {
   "cell_type": "code",
   "execution_count": 7,
   "metadata": {
    "collapsed": false
   },
   "outputs": [
    {
     "name": "stdout",
     "output_type": "stream",
     "text": [
      "Dictionary(1492 unique tokens: ['quartzite', 'abundant', 'mineral', 'full', 'back']...)\n",
      "length corpus 130085\n"
     ]
    }
   ],
   "source": [
    "###here just tokens or stemmed tokens can be used alternatively\n",
    "dictionary = gensim.corpora.Dictionary(totalvocab_lemmatized)\n",
    "## newt two lines remove tokens contained just once in the dictionary\n",
    "once_ids = [tokenid for tokenid, docfreq in iteritems(dictionary.dfs) if docfreq == 1]\n",
    "dictionary.filter_tokens(once_ids)\n",
    "\n",
    "dictionary.compactify()\n",
    "print(dictionary)\n",
    "corpus = [dictionary.doc2bow(text) for text in totalvocab_lemmatized]\n",
    "print('length corpus', len(corpus))"
   ]
  },
  {
   "cell_type": "code",
   "execution_count": 397,
   "metadata": {
    "collapsed": false
   },
   "outputs": [
    {
     "name": "stdout",
     "output_type": "stream",
     "text": [
      "(1000,) (1000,)\n"
     ]
    }
   ],
   "source": [
    "Namoi = 'reclasified.csv'\n",
    "Data = pd.read_csv(root+Namoi)\n",
    "DataSampled = Data.sample(1000)\n",
    "DataDes=DataSampled.Description.tolist()\n",
    "DataDes = [str(n) for n in DataDes]\n",
    "\n",
    "\n",
    "# #use extend so it's a big flat list of vocab\n",
    "lemmatized = []\n",
    "tokenized = []\n",
    "for i in DataDes:\n",
    "    allwords_stemmed = tokenize_and_lemmatize(i, stopa) #for each item in 'synopses', tokenize/stem\n",
    "    lemmatized.extend([allwords_stemmed]) #extend the 'totalvocab_stemmed' list\n",
    "\n",
    "    allwords_tokenized = tokenize_only(i, stopa)\n",
    "    tokenized.extend([allwords_tokenized])\n",
    "\n",
    "print(np.shape(tokenized),  np.shape(lemmatized))\n"
   ]
  },
  {
   "cell_type": "code",
   "execution_count": 398,
   "metadata": {
    "collapsed": false
   },
   "outputs": [
    {
     "name": "stdout",
     "output_type": "stream",
     "text": [
      "Wall time: 479 ms\n"
     ]
    }
   ],
   "source": [
    "%time tfidf = gensim.models.TfidfModel(corpus, normalize = True)\n",
    "corpus_tfidf = tfidf[corpus]"
   ]
  },
  {
   "cell_type": "code",
   "execution_count": 400,
   "metadata": {
    "collapsed": false
   },
   "outputs": [],
   "source": [
    "tfidfSim = gensim.similarities.Similarity(root+'tmp/',corpus_tfidf, len(dictionary))"
   ]
  },
  {
   "cell_type": "code",
   "execution_count": 401,
   "metadata": {
    "collapsed": false
   },
   "outputs": [],
   "source": [
    "# tfidfSim = gensim.similarities.Similarity()\n",
    "# tfidfSimMatrix =[]\n",
    "simsss = []\n",
    "for n, i in enumerate(lemmatized):\n",
    "    vec_bow = dictionary.doc2bow(i)\n",
    "    vec_tfidf = tfidf[vec_bow]\n",
    "    sims1 = tfidfSim[vec_tfidf]\n",
    "    simsss.append(sims1)\n",
    "#     print(sims1)\n",
    "#     tfidfSimMatrix.append(sims1)\n",
    "# tfidfDisMatrix = 1- np.array(tfidfSimMatrix) \n"
   ]
  },
  {
   "cell_type": "code",
   "execution_count": 406,
   "metadata": {
    "collapsed": false
   },
   "outputs": [
    {
     "name": "stdout",
     "output_type": "stream",
     "text": [
      "0.714734806621 0.652865654154\n"
     ]
    }
   ],
   "source": [
    "DataSampled['sim'] = simsss\n",
    "X = np.vstack(DataSampled.sim)\n",
    "kmeans = MiniBatchKMeans(n_clusters = 90, batch_size = 100).fit(X)\n",
    "pred_classes = kmeans.predict(X)\n",
    "\n",
    "print(metrics.adjusted_rand_score(DataSampled.OWN.tolist(), pred_classes.tolist()),\n",
    "      metrics.adjusted_mutual_info_score(DataSampled.OWN.tolist(), pred_classes.tolist()))"
   ]
  },
  {
   "cell_type": "code",
   "execution_count": 407,
   "metadata": {
    "collapsed": false
   },
   "outputs": [
    {
     "data": {
      "text/plain": [
       "0.70961209696296956"
      ]
     },
     "execution_count": 407,
     "metadata": {},
     "output_type": "execute_result"
    }
   ],
   "source": [
    "metrics.completeness_score(DataSampled.OWN.tolist(), pred_classes.tolist())"
   ]
  },
  {
   "cell_type": "code",
   "execution_count": 404,
   "metadata": {
    "collapsed": false
   },
   "outputs": [],
   "source": [
    "lsi = gensim.models.LsiModel(corpus_tfidf, id2word=dictionary, num_topics=300)"
   ]
  },
  {
   "cell_type": "code",
   "execution_count": 405,
   "metadata": {
    "collapsed": false
   },
   "outputs": [],
   "source": [
    "lsiSim = gensim.similarities.Similarity(root+'tmp/',lsi[corpus_tfidf], len(dictionary))\n",
    "simsss =[]\n",
    "for n in lemmatized:\n",
    "    vec_bow = dictionary.doc2bow(n)\n",
    "    vec_lsi = lsi[vec_bow]\n",
    "    sims1 = lsiSim[vec_lsi]\n",
    "    simsss.append(sims1)\n",
    "# lsiDisMatrix = 1- np.array(lsiSimMatrix) "
   ]
  },
  {
   "cell_type": "code",
   "execution_count": 26,
   "metadata": {
    "collapsed": false
   },
   "outputs": [],
   "source": [
    "lda = gensim.models.LdaMulticore(corpus, id2word=dictionary, num_topics=50, chunksize=10000, passes=10, workers = 8)"
   ]
  },
  {
   "cell_type": "code",
   "execution_count": 27,
   "metadata": {
    "collapsed": true
   },
   "outputs": [],
   "source": [
    "ldaSim = gensim.similarities.Similarity(root+'tmp/', lda[corpus], len(dictionary))\n",
    "simsss =[]\n",
    "for n in lemmatized:\n",
    "    vec_bow = dictionary.doc2bow(n)\n",
    "    vec_lda = lda[vec_bow]\n",
    "    sims1 = ldaSim[vec_lda]\n",
    "    simsss.append(sims1)"
   ]
  },
  {
   "cell_type": "code",
   "execution_count": 408,
   "metadata": {
    "collapsed": false
   },
   "outputs": [],
   "source": [
    "size = 1000\n",
    "labs = list(range(len(totalvocab_lemmatized)))\n",
    "labs = ['lab_{}'.format(n) for n in labs]\n",
    "taggedDescriptions = labeledSentences(totalvocab_lemmatized, labels = labs)\n",
    "doc2vec = gensim.models.Doc2Vec(size = size, window = 13, workers = 8, seed = 1, \n",
    "                                min_count = 5, sample = 0.1e-5, dm = 1, dm_concat = 1, \n",
    "                                dm_mean = 1, alpha = 0.25)\n",
    "doc2vec.build_vocab(taggedDescriptions)\n"
   ]
  },
  {
   "cell_type": "code",
   "execution_count": 409,
   "metadata": {
    "collapsed": false
   },
   "outputs": [
    {
     "name": "stdout",
     "output_type": "stream",
     "text": [
      "0.434457623617 0.608323503602 0.665401278107\n"
     ]
    }
   ],
   "source": [
    "vectors = []\n",
    "for n in lemmatized:\n",
    "    vectors.append(np.reshape(doc2vec.infer_vector(n), (1,size)))\n",
    "vectors = np.reshape(np.asarray(vectors), (1000, size))\n",
    "kmeans = MiniBatchKMeans(n_clusters = 90, batch_size = 100).fit(vectors)\n",
    "pred_classes = kmeans.predict(vectors)\n",
    "\n",
    "print(metrics.adjusted_rand_score(DataSampled.OWN.tolist(), pred_classes.tolist()),\n",
    "      metrics.adjusted_mutual_info_score(DataSampled.OWN.tolist(), pred_classes.tolist()),\n",
    "      metrics.completeness_score(DataSampled.OWN.tolist(), pred_classes.tolist()))"
   ]
  },
  {
   "cell_type": "code",
   "execution_count": 411,
   "metadata": {
    "collapsed": false
   },
   "outputs": [],
   "source": [
    "from sklearn.manifold import TSNE\n",
    "from bokeh.plotting import figure, show, output_file\n",
    "from bokeh.models import ColumnDataSource, HoverTool\n",
    "\n",
    "\n",
    "def plot_embedding(arr, labels=None, filename='plot.html'):\n",
    "    \"\"\"Short summary.\n",
    "\n",
    "    Parameters\n",
    "    ----------\n",
    "    arr : np.array\n",
    "       2D array with embeddings.\n",
    "    labels : list(str)\n",
    "       List of labels (the default is None).\n",
    "    filename : str\n",
    "       Path to the output html file containing the plot (the default is 'plot.html').\n",
    "\n",
    "    \"\"\"\n",
    "    tsne = TSNE(n_components=2, verbose=0, perplexity=40, n_iter=300)\n",
    "    tsne_results = tsne.fit_transform(arr)\n",
    "\n",
    "    plot_data = {\n",
    "       'x': tsne_results[:, 0],\n",
    "       'y': tsne_results[:, 1]\n",
    "    }\n",
    "\n",
    "    plot_tools = ['pan', 'zoom_in', 'zoom_out']\n",
    "\n",
    "    if labels is not None:\n",
    "        plot_data['label'] = labels\n",
    "\n",
    "        hover = HoverTool(tooltips=[\n",
    "           (\"Description\", \"@label\")\n",
    "        ])\n",
    "\n",
    "        plot_tools.append(hover)\n",
    "\n",
    "    to_plot = ColumnDataSource(plot_data)\n",
    "    p = figure(title=\"Descriptions t-SNE\", tools=plot_tools)\n",
    "    p.xaxis.axis_label = ''\n",
    "    p.yaxis.axis_label = ''\n",
    "\n",
    "    p.circle('x', 'y', source=to_plot,\n",
    "            fill_alpha=0.8, size=10)\n",
    "\n",
    "    # p.add_layout(labels)\n",
    "    output_file(filename)\n",
    "    show(p)\n",
    "    \n",
    "plot_embedding([doc2vec.infer_vector(x) for x in lemmatized[:1000]],\n",
    "               [';'.join(x) for x in lemmatized[:1000]])"
   ]
  },
  {
   "cell_type": "code",
   "execution_count": 43,
   "metadata": {
    "collapsed": true
   },
   "outputs": [],
   "source": [
    "from nltk.corpus import wordnet as wn"
   ]
  },
  {
   "cell_type": "code",
   "execution_count": 233,
   "metadata": {
    "collapsed": false
   },
   "outputs": [
    {
     "name": "stdout",
     "output_type": "stream",
     "text": [
      "Synset('earth.n.02')\n",
      "the loose soft material that makes up a large part of the land surface\n"
     ]
    }
   ],
   "source": [
    "clay = wn.synset('clay.n.01')\n",
    "mud = wn.synset('mud.n.01')\n",
    "# pug = wn.synset('pug.n.02')\n",
    "sand = wn.synset('sand.n.01')\n",
    "silt = wn.synset('silt.n.01')\n",
    "gravel =  wn.synset('gravel.n.01')\n",
    "stone = wn.synset('stone.n.01')\n",
    "pebble = wn.synset('pebble.n.01')\n",
    "boulder = wn.synset('boulder.n.01')\n",
    "granite = wn.synset('granite.n.01')\n",
    "basalt = wn.synset('basalt.n.01')\n",
    "lava = wn.synset('lava.n.01')\n",
    "tuff = wn.synset('tuff.n.01')\n",
    "volcanic = wn.synset('volcanic.s.03')\n",
    "rhyolite = wn.synset('rhyolite.n.01')\n",
    "breccia = wn.synsets('breccia')[0]\n",
    "agglomerate = wn.synset('agglomerate.n.01')\n",
    "zeolite = wn.synset('zeolite.n.01')\n",
    "andesite = wn.synset('andesite.n.01')\n",
    "diorite = wn.synset('diorite.n.01')\n",
    "porphyry = wn.synset('porphyry.n.01')\n",
    "# dolerite = wn.synset('dolerite.n.01')\n",
    "feldspar = wn.synset('feldspar.n.01')\n",
    "igneous = wn.synset('igneous.a.01')\n",
    "\n",
    "sandstone = wn.synset('sandstone.n.01')\n",
    "# greywacke = wn.synset('greywacke.n.01')\n",
    "# arkose = wn.synset('arkose.n.01')\n",
    "\n",
    "shale = wn.synset('shale.n.01')\n",
    "claystone = wn.synset('claystone.n.01')\n",
    "# mudstone = wn.synset('mudstone.n.01')\n",
    "siltstone = wn.synset('siltstone.n.01')\n",
    "\n",
    "limestone =  wn.synset('limestone.n.01')\n",
    "dolomite = wn.synset('dolomite.n.01')\n",
    "# calcrete = wn.synset('calcrete.n.01')\n",
    "siderite = wn.synset('siderite.n.01')\n",
    "chalk = wn.synset('chalk.n.01')\n",
    "marl = wn.synset('marl.n.01')\n",
    "calcite = wn.synset('calcite.n.01')\n",
    "\n",
    "mica = wn.synset('mica.n.01')\n",
    "schist = wn.synset('schist.n.01')\n",
    "# serpentine = wn.synset('serpentine.n.01')\n",
    "soapstone = wn.synset('soapstone.n.01')\n",
    "slate = wn.synset('slate.n.03')\n",
    "# phyllite  = wn.synset('phyllite.n.01')\n",
    "\n",
    "carbonaceous = wn.synset('carbonaceous.a.01')\n",
    "coal = wn.synset('coal.n.01')\n",
    "lignite = wn.synset('lignite.n.01')\n",
    "wood = wn.synset('wood.n.01')\n",
    "\n",
    "jasper = wn.synset('jasper.n.01')\n",
    "chert = wn.synset('chert.n.01')\n",
    "# silcrete = wn.synset('silcrete.n.01')\n",
    "laterite = wn.synset('laterite.n.01')\n",
    "# ironstone = wn.synset('ironstone.n.01')\n",
    "cement = wn.synset('cement.n.03')\n",
    "# blueMetal = wn.synset('wood.n.01')\n",
    "\n",
    "soil = wn.synset('soil.n.02')\n",
    "loam = wn.synset('loam.n.01')\n",
    "wood = wn.synset('wood.n.01')\n",
    "\n",
    "bentonite = wn.synset('bentonite.n.01')\n",
    "\n",
    "conglomerate = wn.synset('conglomerate.n.01')\n",
    "\n",
    "drift = wn.synset('drift.n.04')\n",
    "\n",
    "quartz = wn.synset('quartz.n.02')\n",
    "\n",
    "rock = wn.synset('rock.n.01')\n",
    "alluvium = wn.synset('alluvium.n.01')\n",
    "water = wn.synset('water.n.01')\n",
    "cavity = wn.synset('cavity.n.01')\n",
    "sedimentary = wn.synset('sedimentary.a.01')\n",
    "channel = wn.synset('channel.n.02')\n",
    "ground = wn.synset('ground.n.07')\n",
    "earth = wn.synset('earth.n.02')\n",
    "\n",
    "sandy = wn.synsets('sandy', pos = wn.ADJ)[1]\n",
    "clayey = wn.synsets('clayey', pos = wn.ADJ)[0]\n",
    "silty = wn.synsets('silty')[0]\n",
    "gravelly = wn.synset('gravelly.s.01')\n",
    "stony = wn.synsets('stony')[0]\n",
    "pebbly = wn.synsets('pebbly')[0]\n",
    "gritty = wn.synsets('gritty')[0]\n",
    "\n",
    "\n",
    "\n",
    "# for n in drift:\n",
    "#     print(n.definition())\n",
    "print(earth)\n",
    "print(earth.definition())\n",
    "# sandy = wngreywacke.synset('sandy.a.01')\n",
    "# for n in sandy:\n",
    "#     print(n.definition())\n",
    "# print(sandy)"
   ]
  },
  {
   "cell_type": "code",
   "execution_count": 176,
   "metadata": {
    "collapsed": false
   },
   "outputs": [
    {
     "name": "stdout",
     "output_type": "stream",
     "text": [
      "carbonaceous\n"
     ]
    }
   ],
   "source": [
    "\n",
    "Lemma = nltk.WordNetLemmatizer()\n",
    "print(Lemma.lemmatize('carbonaceous'))"
   ]
  },
  {
   "cell_type": "code",
   "execution_count": 247,
   "metadata": {
    "collapsed": false
   },
   "outputs": [],
   "source": [
    "from sklearn.feature_extraction.text import TfidfVectorizer\n",
    "vect = TfidfVectorizer()\n",
    "tfidf = vect.fit_transform([n.lower() for n in Descriptions])"
   ]
  },
  {
   "cell_type": "code",
   "execution_count": 248,
   "metadata": {
    "collapsed": false
   },
   "outputs": [
    {
     "name": "stdout",
     "output_type": "stream",
     "text": [
      "0.404928867022 0.232049174226 0.401791987721\n"
     ]
    }
   ],
   "source": [
    "kmeans = MiniBatchKMeans(n_clusters = 90, batch_size = 100, ).fit(tfidf)\n",
    "pred_classes = kmeans.predict(tfidf)\n",
    "\n",
    "print(metrics.completeness_score(Data.OWN.tolist(), pred_classes.tolist()),\n",
    "      metrics.adjusted_rand_score(Data.OWN.tolist(), pred_classes.tolist()),\n",
    "      metrics.adjusted_mutual_info_score(Data.OWN.tolist(), pred_classes.tolist()))"
   ]
  },
  {
   "cell_type": "code",
   "execution_count": 412,
   "metadata": {
    "collapsed": false
   },
   "outputs": [],
   "source": [
    "from __future__ import division\n",
    "import nltk\n",
    "from nltk.corpus import wordnet as wn\n",
    "from nltk.corpus import brown\n",
    "import math\n",
    "import numpy as np\n",
    "import sys\n"
   ]
  },
  {
   "cell_type": "code",
   "execution_count": 413,
   "metadata": {
    "collapsed": true
   },
   "outputs": [],
   "source": [
    "# Parameters to the algorithm. Currently set to values that was reported\n",
    "# in the paper to produce \"best\" results.\n",
    "ALPHA = 0.2\n",
    "BETA = 0.45\n",
    "ETA = 0.4\n",
    "PHI = 0.2\n",
    "DELTA = 0.85\n",
    "\n",
    "brown_freqs = dict()\n",
    "N = 0"
   ]
  },
  {
   "cell_type": "code",
   "execution_count": 450,
   "metadata": {
    "collapsed": true
   },
   "outputs": [],
   "source": [
    "######################### word similarity ##########################\n",
    "\n",
    "def get_best_synset_pair(word_1, word_2):\n",
    "    \"\"\" \n",
    "    Choose the pair with highest path similarity among all pairs. \n",
    "    Mimics pattern-seeking behavior of humans.\n",
    "    \"\"\"\n",
    "    max_sim = -1.0\n",
    "    synsets_1 = wn.synsets(word_1)\n",
    "    synsets_2 = wn.synsets(word_2)\n",
    "    if len(synsets_1) == 0 or len(synsets_2) == 0:\n",
    "        return None, None\n",
    "    else:\n",
    "        max_sim = -1.0\n",
    "        best_pair = None, None\n",
    "        for synset_1 in synsets_1:\n",
    "            for synset_2 in synsets_2:\n",
    "                sim = wn.path_similarity(synset_1, synset_2)\n",
    "                if sim is not None and sim > max_sim:\n",
    "                    if sim > max_sim:\n",
    "                        max_sim = sim\n",
    "                        best_pair = synset_1, synset_2\n",
    "        return best_pair\n",
    "\n",
    "def length_dist(synset_1, synset_2):\n",
    "    \"\"\"\n",
    "    Return a measure of the length of the shortest path in the semantic\n",
    "    ontology (Wordnet in our case as well as the paper's) between two\n",
    "    synsets.\n",
    "    \"\"\"\n",
    "    l_dist = sys.maxsize\n",
    "    if synset_1 is None or synset_2 is None:\n",
    "        return 0.0\n",
    "    if synset_1 == synset_2:\n",
    "        # if synset_1 and synset_2 are the same synset return 0\n",
    "        l_dist = 0.0\n",
    "    else:\n",
    "        wset_1 = set([str(x.name()) for x in synset_1.lemmas()])\n",
    "        wset_2 = set([str(x.name()) for x in synset_2.lemmas()])\n",
    "        if len(wset_1.intersection(wset_2)) > 0:\n",
    "            # if synset_1 != synset_2 but there is word overlap, return 1.0\n",
    "            l_dist = 1.0\n",
    "        else:\n",
    "            # just compute the shortest path between the two\n",
    "            l_dist = synset_1.shortest_path_distance(synset_2)\n",
    "            if l_dist is None:\n",
    "                l_dist = 0.0\n",
    "    # normalize path length to the range [0,1]\n",
    "    return math.exp(-ALPHA * l_dist) \n",
    "\n",
    "def hierarchy_dist(synset_1, synset_2):\n",
    "    \"\"\"\n",
    "    Return a measure of depth in the ontology to model the fact that \n",
    "    nodes closer to the root are broader and have less semantic similarity\n",
    "    than nodes further away from the root.\n",
    "    \"\"\"\n",
    "    h_dist = sys.maxsize\n",
    "    if synset_1 is None or synset_2 is None: \n",
    "        return h_dist\n",
    "    if synset_1 == synset_2:\n",
    "        # return the depth of one of synset_1 or synset_2\n",
    "        h_dist = max([x[1] for x in synset_1.hypernym_distances()])\n",
    "    else:\n",
    "        # find the max depth of least common subsumer\n",
    "        hypernyms_1 = {x[0]:x[1] for x in synset_1.hypernym_distances()}\n",
    "        hypernyms_2 = {x[0]:x[1] for x in synset_2.hypernym_distances()}\n",
    "        lcs_candidates = set(hypernyms_1.keys()).intersection(\n",
    "            set(hypernyms_2.keys()))\n",
    "        if len(lcs_candidates) > 0:\n",
    "            lcs_dists = []\n",
    "            for lcs_candidate in lcs_candidates:\n",
    "                lcs_d1 = 0\n",
    "                if lcs_candidate in hypernyms_1:\n",
    "                    lcs_d1 = hypernyms_1[lcs_candidate]\n",
    "                lcs_d2 = 0\n",
    "                if lcs_candidate in hypernyms_2:\n",
    "                    lcs_d2 = hypernyms_2[lcs_candidate]\n",
    "                lcs_dists.append(max([lcs_d1, lcs_d2]))\n",
    "            h_dist = max(lcs_dists)\n",
    "        else:\n",
    "            h_dist = 0\n",
    "    return ((math.exp(BETA * h_dist) - math.exp(-BETA * h_dist)) / \n",
    "        (math.exp(BETA * h_dist) + math.exp(-BETA * h_dist)))\n",
    "    \n",
    "def word_similarity(word_1, word_2):\n",
    "    synset_pair = get_best_synset_pair(word_1, word_2)\n",
    "    return (length_dist(synset_pair[0], synset_pair[1]) * \n",
    "        hierarchy_dist(synset_pair[0], synset_pair[1]))"
   ]
  },
  {
   "cell_type": "code",
   "execution_count": 452,
   "metadata": {
    "collapsed": true
   },
   "outputs": [],
   "source": [
    "######################### sentence similarity ##########################\n",
    "\n",
    "def most_similar_word(word, word_set):\n",
    "    \"\"\"\n",
    "    Find the word in the joint word set that is most similar to the word\n",
    "    passed in. We use the algorithm above to compute word similarity between\n",
    "    the word and each word in the joint word set, and return the most similar\n",
    "    word and the actual similarity value.\n",
    "    \"\"\"\n",
    "    max_sim = -1.0\n",
    "    sim_word = \"\"\n",
    "    for ref_word in word_set:\n",
    "        sim = word_similarity(word, ref_word)\n",
    "        if sim > max_sim:\n",
    "            max_sim = sim\n",
    "            sim_word = ref_word\n",
    "        return sim_word, max_sim\n",
    "    \n",
    "def info_content(lookup_word):\n",
    "    \"\"\"\n",
    "    Uses the Brown corpus available in NLTK to calculate a Laplace\n",
    "    smoothed frequency distribution of words, then uses this information\n",
    "    to compute the information content of the lookup_word.\n",
    "    \"\"\"\n",
    "    global N\n",
    "    if N == 0:\n",
    "        # poor man's lazy evaluation\n",
    "        for sent in brown.sents():\n",
    "            for word in sent:\n",
    "                word = word.lower()\n",
    "                if word not in brown_freqs:\n",
    "                    brown_freqs[word] = 0\n",
    "                brown_freqs[word] = brown_freqs[word] + 1\n",
    "                N = N + 1\n",
    "    lookup_word = lookup_word.lower()\n",
    "    n = 0 if lookup_word not in brown_freqs else brown_freqs[lookup_word]\n",
    "    return 1.0 - (math.log(n + 1) / math.log(N + 1))\n",
    "    \n",
    "def semantic_vector(words, joint_words, info_content_norm):\n",
    "    \"\"\"\n",
    "    Computes the semantic vector of a sentence. The sentence is passed in as\n",
    "    a collection of words. The size of the semantic vector is the same as the\n",
    "    size of the joint word set. The elements are 1 if a word in the sentence\n",
    "    already exists in the joint word set, or the similarity of the word to the\n",
    "    most similar word in the joint word set if it doesn't. Both values are \n",
    "    further normalized by the word's (and similar word's) information content\n",
    "    if info_content_norm is True.\n",
    "    \"\"\"\n",
    "    sent_set = set(words)\n",
    "    semvec = np.zeros(len(joint_words))\n",
    "    i = 0\n",
    "    for joint_word in joint_words:\n",
    "        if joint_word in sent_set:\n",
    "            # if word in union exists in the sentence, s(i) = 1 (unnormalized)\n",
    "            semvec[i] = 1.0\n",
    "            if info_content_norm:\n",
    "                semvec[i] = semvec[i] * math.pow(info_content(joint_word), 2)\n",
    "        else:\n",
    "            # find the most similar word in the joint set and set the sim value\n",
    "            sim_word, max_sim = most_similar_word(joint_word, sent_set)\n",
    "            semvec[i] = PHI if max_sim > PHI else 0.0\n",
    "            if info_content_norm:\n",
    "                semvec[i] = semvec[i] * info_content(joint_word) * info_content(sim_word)\n",
    "        i = i + 1\n",
    "    return semvec                \n",
    "            \n",
    "def semantic_similarity(sentence_1, sentence_2, info_content_norm):\n",
    "    \"\"\"\n",
    "    Computes the semantic similarity between two sentences as the cosine\n",
    "    similarity between the semantic vectors computed for each sentence.\n",
    "    \"\"\"\n",
    "    words_1 = nltk.word_tokenize(sentence_1)\n",
    "    words_2 = nltk.word_tokenize(sentence_2)\n",
    "    joint_words = set(words_1).union(set(words_2))\n",
    "    vec_1 = semantic_vector(words_1, joint_words, info_content_norm)\n",
    "    vec_2 = semantic_vector(words_2, joint_words, info_content_norm)\n",
    "    return np.dot(vec_1, vec_2.T) / (np.linalg.norm(vec_1) * np.linalg.norm(vec_2))"
   ]
  },
  {
   "cell_type": "code",
   "execution_count": 416,
   "metadata": {
    "collapsed": true
   },
   "outputs": [],
   "source": [
    "######################### word order similarity ##########################\n",
    "\n",
    "def word_order_vector(words, joint_words, windex):\n",
    "    \"\"\"\n",
    "    Computes the word order vector for a sentence. The sentence is passed\n",
    "    in as a collection of words. The size of the word order vector is the\n",
    "    same as the size of the joint word set. The elements of the word order\n",
    "    vector are the position mapping (from the windex dictionary) of the \n",
    "    word in the joint set if the word exists in the sentence. If the word\n",
    "    does not exist in the sentence, then the value of the element is the \n",
    "    position of the most similar word in the sentence as long as the similarity\n",
    "    is above the threshold ETA.\n",
    "    \"\"\"\n",
    "    wovec = np.zeros(len(joint_words))\n",
    "    i = 0\n",
    "    wordset = set(words)\n",
    "    for joint_word in joint_words:\n",
    "        if joint_word in wordset:\n",
    "            # word in joint_words found in sentence, just populate the index\n",
    "            wovec[i] = windex[joint_word]\n",
    "        else:\n",
    "            # word not in joint_words, find most similar word and populate\n",
    "            # word_vector with the thresholded similarity\n",
    "            sim_word, max_sim = most_similar_word(joint_word, wordset)\n",
    "            if max_sim > ETA:\n",
    "                wovec[i] = windex[sim_word]\n",
    "            else:\n",
    "                wovec[i] = 0\n",
    "        i = i + 1\n",
    "    return wovec\n",
    "\n",
    "def word_order_similarity(sentence_1, sentence_2):\n",
    "    \"\"\"\n",
    "    Computes the word-order similarity between two sentences as the normalized\n",
    "    difference of word order between the two sentences.\n",
    "    \"\"\"\n",
    "    words_1 = nltk.word_tokenize(sentence_1)\n",
    "    words_2 = nltk.word_tokenize(sentence_2)\n",
    "    joint_words = list(set(words_1).union(set(words_2)))\n",
    "    windex = {x[1]: x[0] for x in enumerate(joint_words)}\n",
    "    r1 = word_order_vector(words_1, joint_words, windex)\n",
    "    r2 = word_order_vector(words_2, joint_words, windex)\n",
    "    return 1.0 - (np.linalg.norm(r1 - r2) / np.linalg.norm(r1 + r2))"
   ]
  },
  {
   "cell_type": "code",
   "execution_count": 417,
   "metadata": {
    "collapsed": true
   },
   "outputs": [],
   "source": [
    "######################### overall similarity ##########################\n",
    "\n",
    "def similarity(sentence_1, sentence_2, info_content_norm):\n",
    "    \"\"\"\n",
    "    Calculate the semantic similarity between two sentences. The last \n",
    "    parameter is True or False depending on whether information content\n",
    "    normalization is desired or not.\n",
    "    \"\"\"\n",
    "    return DELTA * semantic_similarity(sentence_1, sentence_2, info_content_norm) + \\\n",
    "        (1.0 - DELTA) * word_order_similarity(sentence_1, sentence_2)"
   ]
  },
  {
   "cell_type": "code",
   "execution_count": 453,
   "metadata": {
    "collapsed": false
   },
   "outputs": [
    {
     "name": "stdout",
     "output_type": "stream",
     "text": [
      "I like that bachelor.\tI like that unmarried man.\t0.561\t0.788\t0.319\n",
      "John is very nice.\tIs John very nice?\t0.977\t0.615\t0.903\n",
      "Red alcoholic drink.\tA bottle of wine.\t0.585\t0.256\t0.069\n",
      "Red alcoholic drink.\tFresh orange juice.\t0.611\t0.268\t0.058\n",
      "Red alcoholic drink.\tAn English dictionary.\t0.000\t0.284\t0.074\n",
      "Red alcoholic drink.\tFresh apple juice.\t0.420\t0.252\t0.042\n",
      "A glass of cider.\tA full cup of apple juice.\t0.678\t0.626\t0.334\n",
      "It is a dog.\tThat must be your dog.\t0.739\t0.422\t0.682\n",
      "It is a dog.\tIt is a log.\t0.623\t0.808\t0.257\n",
      "It is a dog.\tIt is a pig.\t0.790\t0.784\t0.188\n",
      "Dogs are animals.\tThey are common pets.\t0.738\t0.420\t0.078\n",
      "Canis familiaris are animals.\tDogs are common pets.\t0.362\t0.394\t0.070\n",
      "I have a pen.\tWhere do you live?\t0.000\t0.101\t0.120\n",
      "I have a pen.\tWhere is ink?\t0.129\t0.100\t0.046\n",
      "I have a hammer.\tTake some nails.\t0.508\t0.256\t0.070\n",
      "I have a hammer.\tTake some apples.\t0.121\t0.293\t0.138\n"
     ]
    }
   ],
   "source": [
    "######################### main / test ##########################\n",
    "\n",
    "# the results of the algorithm are largely dependent on the results of \n",
    "# the word similarities, so we should test this first...\n",
    "# word_pairs = [\n",
    "#   [\"asylum\", \"fruit\", 0.21],\n",
    "#   [\"autograph\", \"shore\", 0.29],\n",
    "#   [\"autograph\", \"signature\", 0.55],\n",
    "#   [\"automobile\", \"car\", 0.64],\n",
    "#   [\"bird\", \"woodland\", 0.33],\n",
    "#   [\"boy\", \"rooster\", 0.53],\n",
    "#   [\"boy\", \"lad\", 0.66],\n",
    "#   [\"boy\", \"sage\", 0.51],\n",
    "#   [\"cemetery\", \"graveyard\", 0.73],\n",
    "#   [\"coast\", \"forest\", 0.36],\n",
    "#   [\"coast\", \"shore\", 0.76],\n",
    "#   [\"cock\", \"rooster\", 1.00],\n",
    "#   [\"cord\", \"smile\", 0.33],\n",
    "#   [\"cord\", \"string\", 0.68],\n",
    "#   [\"cushion\", \"pillow\", 0.66],\n",
    "#   [\"forest\", \"graveyard\", 0.55],\n",
    "#   [\"forest\", \"woodland\", 0.70],\n",
    "#   [\"furnace\", \"stove\", 0.72],\n",
    "#   [\"glass\", \"tumbler\", 0.65],\n",
    "#   [\"grin\", \"smile\", 0.49],\n",
    "#   [\"gem\", \"jewel\", 0.83],\n",
    "#   [\"hill\", \"woodland\", 0.59],\n",
    "#   [\"hill\", \"mound\", 0.74],\n",
    "#   [\"implement\", \"tool\", 0.75],\n",
    "#   [\"journey\", \"voyage\", 0.52],\n",
    "#   [\"magician\", \"oracle\", 0.44],\n",
    "#   [\"magician\", \"wizard\", 0.65],\n",
    "#   [\"midday\", \"noon\", 1.0],\n",
    "#   [\"oracle\", \"sage\", 0.43],\n",
    "#   [\"serf\", \"slave\", 0.39]\n",
    "# ]\n",
    "# for word_pair in word_pairs:\n",
    "#     print(\"%s\\t%s\\t%.2f\\t%.2f\" % (word_pair[0], word_pair[1], word_pair[2],\n",
    "#                                   word_similarity(word_pair[0], word_pair[1])))\n",
    "\n",
    "\n",
    "\n",
    "\n",
    "\n",
    "sentence_pairs = [\n",
    "    [\"I like that bachelor.\", \"I like that unmarried man.\", 0.561],\n",
    "    [\"John is very nice.\", \"Is John very nice?\", 0.977],\n",
    "    [\"Red alcoholic drink.\", \"A bottle of wine.\", 0.585],\n",
    "    [\"Red alcoholic drink.\", \"Fresh orange juice.\", 0.611],\n",
    "    [\"Red alcoholic drink.\", \"An English dictionary.\", 0.0],\n",
    "    [\"Red alcoholic drink.\", \"Fresh apple juice.\", 0.420],\n",
    "    [\"A glass of cider.\", \"A full cup of apple juice.\", 0.678],\n",
    "    [\"It is a dog.\", \"That must be your dog.\", 0.739],\n",
    "    [\"It is a dog.\", \"It is a log.\", 0.623],\n",
    "    [\"It is a dog.\", \"It is a pig.\", 0.790],\n",
    "    [\"Dogs are animals.\", \"They are common pets.\", 0.738],\n",
    "    [\"Canis familiaris are animals.\", \"Dogs are common pets.\", 0.362],\n",
    "    [\"I have a pen.\", \"Where do you live?\", 0.0],\n",
    "    [\"I have a pen.\", \"Where is ink?\", 0.129],\n",
    "    [\"I have a hammer.\", \"Take some nails.\", 0.508],\n",
    "    [\"I have a hammer.\", \"Take some apples.\", 0.121]\n",
    "]\n",
    "for sent_pair in sentence_pairs:\n",
    "    print(\"%s\\t%s\\t%.3f\\t%.3f\\t%.3f\" % (sent_pair[0], sent_pair[1], sent_pair[2], \n",
    "        similarity(sent_pair[0], sent_pair[1], False),\n",
    "        similarity(sent_pair[0], sent_pair[1], True)))"
   ]
  },
  {
   "cell_type": "code",
   "execution_count": null,
   "metadata": {
    "collapsed": true
   },
   "outputs": [],
   "source": []
  }
 ],
 "metadata": {
  "kernelspec": {
   "display_name": "Python [Root]",
   "language": "python",
   "name": "Python [Root]"
  },
  "language_info": {
   "codemirror_mode": {
    "name": "ipython",
    "version": 3
   },
   "file_extension": ".py",
   "mimetype": "text/x-python",
   "name": "python",
   "nbconvert_exporter": "python",
   "pygments_lexer": "ipython3",
   "version": "3.5.2"
  }
 },
 "nbformat": 4,
 "nbformat_minor": 2
}
