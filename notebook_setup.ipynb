{
 "cells": [
  {
   "cell_type": "code",
   "execution_count": 1,
   "metadata": {},
   "outputs": [
    {
     "name": "stderr",
     "output_type": "stream",
     "text": [
      "C:\\UserData\\takuyai\\Miniconda3\\envs\\lith_nlp\\lib\\site-packages\\gensim\\utils.py:860: UserWarning: detected Windows; aliasing chunkize to chunkize_serial\n",
      "  warnings.warn(\"detected Windows; aliasing chunkize to chunkize_serial\")\n"
     ]
    }
   ],
   "source": [
    "import os\n",
    "from collections import Counter\n",
    "\n",
    "import sklearn.cluster\n",
    "from sklearn.metrics.pairwise import euclidean_distances\n",
    "from sklearn.metrics.pairwise import cosine_similarity\n",
    "import matplotlib.pyplot as plt\n",
    "import numpy as np\n",
    "import pandas as pd\n",
    "from six import iteritems\n",
    "\n",
    "import gensim\n",
    "from fuzzywuzzy import fuzz, process\n",
    "from Litho.nlp_funcs import *\n",
    "from Litho.similarity import (check_similarity, match_lithcode, jaccard_similarity, \n",
    "                              calc_similarity_score, print_sim_compare)\n",
    "from tqdm import tqdm\n",
    "\n",
    "%matplotlib inline\n",
    "%load_ext autoreload\n",
    "%autoreload 2\n",
    "\n",
    "path = 'example_data'\n",
    "lith_data = 'sampled_bores.csv'\n",
    "path_to_data = os.path.join(path, lith_data)\n",
    "\n",
    "lith_df = pd.read_csv(path_to_data, index_col='HydroCode')"
   ]
  },
  {
   "cell_type": "markdown",
   "metadata": {},
   "source": [
    "I've modified and moved out the functions defined in the example script, which are imported below."
   ]
  },
  {
   "cell_type": "code",
   "execution_count": 2,
   "metadata": {},
   "outputs": [],
   "source": [
    "path = 'example_data'\n",
    "lith_data = 'sampled_bores.csv'\n",
    "path_to_data = os.path.join(path, lith_data)\n",
    "\n",
    "lith_df = pd.read_csv(path_to_data, index_col='HydroCode')"
   ]
  },
  {
   "cell_type": "code",
   "execution_count": 3,
   "metadata": {},
   "outputs": [
    {
     "data": {
      "text/html": [
       "<div>\n",
       "<style scoped>\n",
       "    .dataframe tbody tr th:only-of-type {\n",
       "        vertical-align: middle;\n",
       "    }\n",
       "\n",
       "    .dataframe tbody tr th {\n",
       "        vertical-align: top;\n",
       "    }\n",
       "\n",
       "    .dataframe thead th {\n",
       "        text-align: right;\n",
       "    }\n",
       "</style>\n",
       "<table border=\"1\" class=\"dataframe\">\n",
       "  <thead>\n",
       "    <tr style=\"text-align: right;\">\n",
       "      <th></th>\n",
       "      <th>MajorLithCode</th>\n",
       "      <th>Description</th>\n",
       "    </tr>\n",
       "    <tr>\n",
       "      <th>HydroCode</th>\n",
       "      <th></th>\n",
       "      <th></th>\n",
       "    </tr>\n",
       "  </thead>\n",
       "  <tbody>\n",
       "    <tr>\n",
       "      <th>GW036600.1.1</th>\n",
       "      <td>GRVL</td>\n",
       "      <td>Gravel cemented water bearing</td>\n",
       "    </tr>\n",
       "    <tr>\n",
       "      <th>GW030378.3.1</th>\n",
       "      <td>CLAY</td>\n",
       "      <td>Clay; brown and buff grey, fine to coarse sand...</td>\n",
       "    </tr>\n",
       "    <tr>\n",
       "      <th>GW900892.1.1</th>\n",
       "      <td>UNKN</td>\n",
       "      <td>Pink volcanic clay</td>\n",
       "    </tr>\n",
       "    <tr>\n",
       "      <th>GW902811.1.1</th>\n",
       "      <td>CRSE</td>\n",
       "      <td>Coarse gravel rocks and clay</td>\n",
       "    </tr>\n",
       "    <tr>\n",
       "      <th>GW967721.1.1</th>\n",
       "      <td>SHLE</td>\n",
       "      <td>Shale</td>\n",
       "    </tr>\n",
       "  </tbody>\n",
       "</table>\n",
       "</div>"
      ],
      "text/plain": [
       "             MajorLithCode                                        Description\n",
       "HydroCode                                                                    \n",
       "GW036600.1.1          GRVL                      Gravel cemented water bearing\n",
       "GW030378.3.1          CLAY  Clay; brown and buff grey, fine to coarse sand...\n",
       "GW900892.1.1          UNKN                                 Pink volcanic clay\n",
       "GW902811.1.1          CRSE                       Coarse gravel rocks and clay\n",
       "GW967721.1.1          SHLE                                              Shale"
      ]
     },
     "execution_count": 3,
     "metadata": {},
     "output_type": "execute_result"
    }
   ],
   "source": [
    "lith_df.loc[:, ['MajorLithCode', 'Description']].head()"
   ]
  },
  {
   "cell_type": "markdown",
   "metadata": {},
   "source": [
    "We could use the MajorLithCode to inform our clustering (minor appears to be always empty). \n",
    "\n",
    "Unfortunately, there are 99 entries in the example set with unknown or numerical values (as shown below)"
   ]
  },
  {
   "cell_type": "code",
   "execution_count": 4,
   "metadata": {},
   "outputs": [
    {
     "data": {
      "text/plain": [
       "99"
      ]
     },
     "execution_count": 4,
     "metadata": {},
     "output_type": "execute_result"
    }
   ],
   "source": [
    "is_unknown_or_numeric = (lith_df.MajorLithCode == 'UNKN') | lith_df.MajorLithCode.str.isnumeric()\n",
    "lith_df.loc[is_unknown_or_numeric, 'MajorLithCode'].count()"
   ]
  },
  {
   "cell_type": "code",
   "execution_count": 5,
   "metadata": {},
   "outputs": [
    {
     "data": {
      "text/html": [
       "<div>\n",
       "<style scoped>\n",
       "    .dataframe tbody tr th:only-of-type {\n",
       "        vertical-align: middle;\n",
       "    }\n",
       "\n",
       "    .dataframe tbody tr th {\n",
       "        vertical-align: top;\n",
       "    }\n",
       "\n",
       "    .dataframe thead th {\n",
       "        text-align: right;\n",
       "    }\n",
       "</style>\n",
       "<table border=\"1\" class=\"dataframe\">\n",
       "  <thead>\n",
       "    <tr style=\"text-align: right;\">\n",
       "      <th></th>\n",
       "      <th>BoreID</th>\n",
       "      <th>MajorLithCode</th>\n",
       "      <th>Description</th>\n",
       "    </tr>\n",
       "    <tr>\n",
       "      <th>HydroCode</th>\n",
       "      <th></th>\n",
       "      <th></th>\n",
       "      <th></th>\n",
       "    </tr>\n",
       "  </thead>\n",
       "  <tbody>\n",
       "    <tr>\n",
       "      <th>GW900892.1.1</th>\n",
       "      <td>10144626</td>\n",
       "      <td>UNKN</td>\n",
       "      <td>Pink volcanic clay</td>\n",
       "    </tr>\n",
       "    <tr>\n",
       "      <th>GW901825.1.1</th>\n",
       "      <td>10145558</td>\n",
       "      <td>UNKN</td>\n",
       "      <td>Sandy clay</td>\n",
       "    </tr>\n",
       "    <tr>\n",
       "      <th>GW900653.1.1</th>\n",
       "      <td>10144387</td>\n",
       "      <td>UNKN</td>\n",
       "      <td>Black soil</td>\n",
       "    </tr>\n",
       "    <tr>\n",
       "      <th>GW900329.1.1</th>\n",
       "      <td>10144063</td>\n",
       "      <td>UNKN</td>\n",
       "      <td>Soft basalt</td>\n",
       "    </tr>\n",
       "    <tr>\n",
       "      <th>GW900449.1.1</th>\n",
       "      <td>10144183</td>\n",
       "      <td>UNKN</td>\n",
       "      <td>Brown clay</td>\n",
       "    </tr>\n",
       "    <tr>\n",
       "      <th>GW900748.1.1</th>\n",
       "      <td>10144482</td>\n",
       "      <td>UNKN</td>\n",
       "      <td>Sand and gravel</td>\n",
       "    </tr>\n",
       "    <tr>\n",
       "      <th>GW965568.1.1</th>\n",
       "      <td>10147134</td>\n",
       "      <td>19</td>\n",
       "      <td>Silty clay brown with white flakes</td>\n",
       "    </tr>\n",
       "    <tr>\n",
       "      <th>GW902177.1.1</th>\n",
       "      <td>10145907</td>\n",
       "      <td>UNKN</td>\n",
       "      <td>Softer brown &amp; grey clay</td>\n",
       "    </tr>\n",
       "    <tr>\n",
       "      <th>GW900968.1.1</th>\n",
       "      <td>10144702</td>\n",
       "      <td>UNKN</td>\n",
       "      <td>Brown clay with pebbles</td>\n",
       "    </tr>\n",
       "    <tr>\n",
       "      <th>GW070029.1.1</th>\n",
       "      <td>10083173</td>\n",
       "      <td>UNKN</td>\n",
       "      <td>Grey mudstones</td>\n",
       "    </tr>\n",
       "  </tbody>\n",
       "</table>\n",
       "</div>"
      ],
      "text/plain": [
       "                BoreID MajorLithCode                         Description\n",
       "HydroCode                                                               \n",
       "GW900892.1.1  10144626          UNKN                  Pink volcanic clay\n",
       "GW901825.1.1  10145558          UNKN                          Sandy clay\n",
       "GW900653.1.1  10144387          UNKN                          Black soil\n",
       "GW900329.1.1  10144063          UNKN                         Soft basalt\n",
       "GW900449.1.1  10144183          UNKN                          Brown clay\n",
       "GW900748.1.1  10144482          UNKN                     Sand and gravel\n",
       "GW965568.1.1  10147134            19  Silty clay brown with white flakes\n",
       "GW902177.1.1  10145907          UNKN            Softer brown & grey clay\n",
       "GW900968.1.1  10144702          UNKN             Brown clay with pebbles\n",
       "GW070029.1.1  10083173          UNKN                      Grey mudstones"
      ]
     },
     "execution_count": 5,
     "metadata": {},
     "output_type": "execute_result"
    }
   ],
   "source": [
    "lith_df.loc[is_unknown_or_numeric, ['BoreID', 'MajorLithCode', 'Description']].head(10)"
   ]
  },
  {
   "cell_type": "code",
   "execution_count": 6,
   "metadata": {},
   "outputs": [
    {
     "name": "stdout",
     "output_type": "stream",
     "text": [
      "41 Unique LithCodes that are not UNKN or numeric\n",
      "['GRVL' 'CLAY' 'CRSE' 'SHLE' 'BSLT' 'ROCK' 'SAND' 'SOIL' 'GRNT' 'SASH'\n",
      " 'CGLM' 'SDSN' 'TPSL' 'BLBN' 'COAL' 'SILT' 'LMSN' 'ALVM' 'QRTZ' 'SDCY'\n",
      " 'LOAM' 'BLDR' 'SLTE' 'SLCY' 'BNST' 'VLCC' 'SLSN' 'BRBN' 'GRBN' 'MDSN'\n",
      " 'WB' 'TUFF' 'BDRK' 'SNDY' 'SDMN' 'CVTY' 'CLBD' 'FILL' 'DLMT' 'WODY'\n",
      " 'FINE']\n"
     ]
    }
   ],
   "source": [
    "print(len(lith_df.loc[~is_unknown_or_numeric, 'MajorLithCode'].unique()), \"Unique LithCodes that are not UNKN or numeric\")\n",
    "print(lith_df.loc[~is_unknown_or_numeric, 'MajorLithCode'].unique())"
   ]
  },
  {
   "cell_type": "markdown",
   "metadata": {},
   "source": [
    "For each unknown entry, can we find a comparable entry with the same terminology in the description?"
   ]
  },
  {
   "cell_type": "code",
   "execution_count": 7,
   "metadata": {},
   "outputs": [],
   "source": [
    "# here I define a tokenizer and stemmer which returns the set of stems in the text that it is passed\n",
    "stopw2 = ['redish', 'reddish', 'red', 'black', 'blackish', 'brown', 'brownish',\n",
    "          'blue', 'blueish', 'orange', 'orangeish', 'gray', 'grey', 'grayish',\n",
    "          'greyish', 'white', 'whiteish', 'purple', 'purpleish', 'yellow',\n",
    "          'yellowish', 'green', 'greenish', 'light', 'very', 'pink','coarse',\n",
    "          'fine', 'medium', 'hard', 'soft', 'coloured', 'multicoloured',\n",
    "          'weathered', 'fractured']\n",
    "\n",
    "stopwords = nltk.corpus.stopwords.words('english')\n",
    "stopwords.extend(stopw2)  # add the additional stopwords above"
   ]
  },
  {
   "cell_type": "code",
   "execution_count": 8,
   "metadata": {},
   "outputs": [
    {
     "name": "stdout",
     "output_type": "stream",
     "text": [
      "Attempting to fill in 99 unknown MajorLithCode based on provided descriptions\n"
     ]
    },
    {
     "name": "stderr",
     "output_type": "stream",
     "text": [
      "100%|████████████████████████████████████████████████████████████████████████████████████████████████████████████████████████████████████████████████████████████████████████████| 99/99 [00:32<00:00,  3.00it/s]\n"
     ]
    }
   ],
   "source": [
    "subset = lith_df.loc[is_unknown_or_numeric, 'Description'].values \n",
    "\n",
    "print(\"Attempting to fill in {} unknown MajorLithCode based on provided descriptions\".format(len(subset)))\n",
    "unkn_cache = {}\n",
    "for i in tqdm(subset):\n",
    "    \n",
    "    if i not in unkn_cache:\n",
    "        tmp_df = lith_df.loc[~is_unknown_or_numeric, ['Description', 'MajorLithCode']]\n",
    "        matches = tmp_df.apply(match_lithcode, args=(i, stopw2, ), axis=1)\n",
    "        counts = Counter(matches.dropna().values)\n",
    "        \n",
    "        try:\n",
    "            lith_code, num_occur = counts.most_common()[0]\n",
    "            if num_occur < 3:\n",
    "                raise IndexError  # Not enough to match lith code\n",
    "        except IndexError:\n",
    "            continue  # Could not find any matches!\n",
    "        # End try\n",
    "\n",
    "        # print(i, f' -> {lith_code} ({num_occur})')\n",
    "        unkn_cache[i] = lith_code\n",
    "    else:\n",
    "        lith_code = unkn_cache[i]\n",
    "    # End if\n",
    "    \n",
    "    lith_df.at[lith_df.Description == i, 'MajorLithCode'] = lith_code  # update lith code\n",
    "# End for"
   ]
  },
  {
   "cell_type": "code",
   "execution_count": 9,
   "metadata": {},
   "outputs": [
    {
     "name": "stdout",
     "output_type": "stream",
     "text": [
      "After clean up 40 unique LithCodes that are not UNKN or numeric\n",
      "['GRVL' 'CLAY' 'CRSE' 'SHLE' 'BSLT' 'ROCK' 'SAND' 'SOIL' 'TPSL' 'GRNT'\n",
      " 'SASH' 'CGLM' 'SDSN' 'COAL' 'SILT' 'LMSN' 'ALVM' 'QRTZ' 'SDCY' 'LOAM'\n",
      " 'BLDR' 'SLTE' 'SLCY' 'VLCC' 'SLSN' 'BRBN' 'GRBN' 'MDSN' 'WB' 'TUFF'\n",
      " 'BDRK' 'SNDY' 'SDMN' 'CVTY' 'CLBD' 'FILL' 'DLMT' 'WODY' 'BNST' 'FINE']\n"
     ]
    }
   ],
   "source": [
    "is_unknown_or_numeric = (lith_df.MajorLithCode == 'UNKN') | lith_df.MajorLithCode.str.isnumeric()\n",
    "print(\"After clean up\", len(lith_df.loc[~is_unknown_or_numeric, 'MajorLithCode'].unique()), \"unique LithCodes that are not UNKN or numeric\")\n",
    "print(lith_df.loc[~is_unknown_or_numeric, 'MajorLithCode'].unique())"
   ]
  },
  {
   "cell_type": "code",
   "execution_count": 10,
   "metadata": {},
   "outputs": [],
   "source": [
    "totalvocab_stemmed = []\n",
    "totalvocab_tokenized = []\n",
    "\n",
    "lith_code_desc = lith_df.loc[:, ['MajorLithCode', 'Description']]\n",
    "# Filter to unique combinations of LithCode and Description\n",
    "# lith_code_desc = lith_code_desc.groupby(['MajorLithCode','Description']).size().reset_index().rename(columns={0: 'count'})\n",
    "for row in lith_code_desc.itertuples():\n",
    "    # print(row.MajorLithCode, row.Description)\n",
    "    #combined = \"{} {}\".format(row.MajorLithCode, row.Description) \n",
    "    allwords_stemmed = tokenize_and_stem(row.Description, stopwords) #for each item in 'synopses', tokenize/stem\n",
    "    totalvocab_stemmed.extend([allwords_stemmed]) #extend the 'totalvocab_stemmed' list\n",
    "    \n",
    "    allwords_tokenized = tokenize_only(row.Description, stopwords)\n",
    "    totalvocab_tokenized.extend([allwords_tokenized])"
   ]
  },
  {
   "cell_type": "code",
   "execution_count": 11,
   "metadata": {},
   "outputs": [
    {
     "name": "stdout",
     "output_type": "stream",
     "text": [
      "(1000,) (1000,)\n"
     ]
    }
   ],
   "source": [
    "print(np.shape(totalvocab_tokenized),  np.shape(totalvocab_stemmed))"
   ]
  },
  {
   "cell_type": "code",
   "execution_count": 12,
   "metadata": {},
   "outputs": [
    {
     "data": {
      "text/html": [
       "<div>\n",
       "<style scoped>\n",
       "    .dataframe tbody tr th:only-of-type {\n",
       "        vertical-align: middle;\n",
       "    }\n",
       "\n",
       "    .dataframe tbody tr th {\n",
       "        vertical-align: top;\n",
       "    }\n",
       "\n",
       "    .dataframe thead th {\n",
       "        text-align: right;\n",
       "    }\n",
       "</style>\n",
       "<table border=\"1\" class=\"dataframe\">\n",
       "  <thead>\n",
       "    <tr style=\"text-align: right;\">\n",
       "      <th></th>\n",
       "      <th>MajorLithCode</th>\n",
       "      <th>Description</th>\n",
       "    </tr>\n",
       "    <tr>\n",
       "      <th>HydroCode</th>\n",
       "      <th></th>\n",
       "      <th></th>\n",
       "    </tr>\n",
       "  </thead>\n",
       "  <tbody>\n",
       "    <tr>\n",
       "      <th>GW036600.1.1</th>\n",
       "      <td>GRVL</td>\n",
       "      <td>Gravel cemented water bearing</td>\n",
       "    </tr>\n",
       "    <tr>\n",
       "      <th>GW030378.3.1</th>\n",
       "      <td>CLAY</td>\n",
       "      <td>Clay; brown and buff grey, fine to coarse sand...</td>\n",
       "    </tr>\n",
       "    <tr>\n",
       "      <th>GW900892.1.1</th>\n",
       "      <td>CLAY</td>\n",
       "      <td>Pink volcanic clay</td>\n",
       "    </tr>\n",
       "    <tr>\n",
       "      <th>GW902811.1.1</th>\n",
       "      <td>CRSE</td>\n",
       "      <td>Coarse gravel rocks and clay</td>\n",
       "    </tr>\n",
       "    <tr>\n",
       "      <th>GW967721.1.1</th>\n",
       "      <td>SHLE</td>\n",
       "      <td>Shale</td>\n",
       "    </tr>\n",
       "  </tbody>\n",
       "</table>\n",
       "</div>"
      ],
      "text/plain": [
       "             MajorLithCode                                        Description\n",
       "HydroCode                                                                    \n",
       "GW036600.1.1          GRVL                      Gravel cemented water bearing\n",
       "GW030378.3.1          CLAY  Clay; brown and buff grey, fine to coarse sand...\n",
       "GW900892.1.1          CLAY                                 Pink volcanic clay\n",
       "GW902811.1.1          CRSE                       Coarse gravel rocks and clay\n",
       "GW967721.1.1          SHLE                                              Shale"
      ]
     },
     "execution_count": 12,
     "metadata": {},
     "output_type": "execute_result"
    }
   ],
   "source": [
    "lith_code_desc.head()"
   ]
  },
  {
   "cell_type": "code",
   "execution_count": 13,
   "metadata": {},
   "outputs": [
    {
     "name": "stdout",
     "output_type": "stream",
     "text": [
      "Dictionary(139 unique tokens: ['bear', 'cement', 'gravel', 'water', 'clay']...)\n"
     ]
    }
   ],
   "source": [
    "## used gensim instead of cosdisimilarity from sklearn due to the huge distance matrix\n",
    "dictionary = gensim.corpora.Dictionary(totalvocab_stemmed)\n",
    "once_ids = [tokenid for tokenid, docfreq in iteritems(dictionary.dfs) if docfreq == 1]\n",
    "dictionary.filter_tokens(once_ids)\n",
    "dictionary.compactify()\n",
    "print(dictionary)\n",
    "# dictionary.save(path+'/dictio.dict')\n",
    "# store the dictionary, for future reference"
   ]
  },
  {
   "cell_type": "code",
   "execution_count": 14,
   "metadata": {},
   "outputs": [
    {
     "data": {
      "text/plain": [
       "[[(0, 1), (1, 1), (2, 1), (3, 1)],\n",
       " [(4, 1), (5, 1), (6, 1), (7, 1), (8, 1)],\n",
       " [(4, 1), (9, 1)],\n",
       " [(2, 1), (4, 1), (5, 1), (10, 1)],\n",
       " [(11, 1)],\n",
       " [(12, 1)],\n",
       " [(10, 1)],\n",
       " [(4, 1)],\n",
       " [(0, 1), (3, 1), (11, 1)],\n",
       " [(0, 1), (3, 1), (10, 1), (13, 1)]]"
      ]
     },
     "execution_count": 14,
     "metadata": {},
     "output_type": "execute_result"
    }
   ],
   "source": [
    "corpus = [dictionary.doc2bow(text) for text in totalvocab_stemmed]\n",
    "corpus[:10]"
   ]
  },
  {
   "cell_type": "code",
   "execution_count": 15,
   "metadata": {},
   "outputs": [],
   "source": [
    "# gensim.corpora.MmCorpus.serialize(path+'corpus.mm', corpus)  # store to disk, for later use\n",
    "tf_idf = gensim.models.TfidfModel(corpus)\n",
    "sims = gensim.similarities.Similarity(path, tf_idf[corpus],\n",
    "                                      num_features=len(dictionary))\n",
    "\n",
    "x, y = [], []\n",
    "for n, i in enumerate(corpus[0:50]):\n",
    "    dist = 1-sims[tf_idf[i]]\n",
    "    # print(dist, len(dist))\n",
    "    if i == 0:\n",
    "        x0, y0 = 0, 0\n",
    "    elif i == 1:\n",
    "        x0, y0 = 0, dist[0]\n",
    "    else:\n",
    "        dp1p2 = dist[0] + dist[1]\n",
    "        dp1pn = dp1p2 + dist[1]\n",
    "        dp2pn = dist[0] + dp1p2\n",
    "        A = (dp1p2**2 + dp1pn**2 - dp2pn**2)/(2*dp1p2*dp1pn)\n",
    "        x0, y0 = dp1pn*np.cos(A), dp1pn*np.sin(A)\n",
    "    x.append(x0)\n",
    "    y.append(y0)\n",
    "# End for"
   ]
  },
  {
   "cell_type": "markdown",
   "metadata": {},
   "source": [
    "Problem Statement:\n",
    "\n",
    "The problem seems that as we are converting to a 2D plane, and using the first two descriptions as references ('sand' and 'clay'), in the plane different categories are being plotted at the same location and distance from these descriptions. Other issue is that it doesn't differentiate by the order in the description. Thus, sandy clay is plotted at the same location that clayey sand..."
   ]
  },
  {
   "cell_type": "code",
   "execution_count": 16,
   "metadata": {
    "scrolled": false
   },
   "outputs": [
    {
     "data": {
      "image/png": "[encoded data removed]",
      "text/plain": [
       "<matplotlib.figure.Figure at 0x235b75792e8>"
      ]
     },
     "metadata": {},
     "output_type": "display_data"
    }
   ],
   "source": [
    "%matplotlib inline\n",
    "\n",
    "lith_code_desc = lith_df.loc[:, ['MajorLithCode', 'Description']]\n",
    "# Filter to unique combinations of LithCode and Description\n",
    "# lith_code_desc = lith_code_desc.groupby(['MajorLithCode','Description']).size().reset_index().rename(columns={0: 'count'})\n",
    "\n",
    "lith_desc = lith_code_desc.Description\n",
    "plt.figure(figsize=(10,8))\n",
    "plt.scatter(x, y)\n",
    "for i,n in enumerate(lith_desc[0:50]):\n",
    "    plt.text(x[i],y[i],n)\n",
    "\n",
    "plt.show()"
   ]
  },
  {
   "cell_type": "code",
   "execution_count": null,
   "metadata": {},
   "outputs": [],
   "source": []
  }
 ],
 "metadata": {
  "kernelspec": {
   "display_name": "Lith NLP",
   "language": "python",
   "name": "lith-nlp"
  },
  "language_info": {
   "codemirror_mode": {
    "name": "ipython",
    "version": 3
   },
   "file_extension": ".py",
   "mimetype": "text/x-python",
   "name": "python",
   "nbconvert_exporter": "python",
   "pygments_lexer": "ipython3",
   "version": "3.6.4"
  }
 },
 "nbformat": 4,
 "nbformat_minor": 2
}
