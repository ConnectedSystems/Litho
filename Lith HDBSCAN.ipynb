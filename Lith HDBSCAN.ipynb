{
 "cells": [
  {
   "cell_type": "code",
   "execution_count": null,
   "metadata": {},
   "outputs": [],
   "source": [
    "%run \"Lith Affinity Prop.ipynb\"\n",
    "\n",
    "# The above runs the notebook setup as well"
   ]
  },
  {
   "cell_type": "markdown",
   "metadata": {},
   "source": [
    "# Let's try HDBScan\n",
    "\n",
    "Useful links\n",
    "* http://nbviewer.jupyter.org/github/scikit-learn-contrib/hdbscan/blob/master/notebooks/How%20HDBSCAN%20Works.ipynb\n",
    "* http://hdbscan.readthedocs.io/en/latest/basic_hdbscan.html"
   ]
  },
  {
   "cell_type": "code",
   "execution_count": null,
   "metadata": {},
   "outputs": [],
   "source": [
    "plt.imshow(token_sim)\n",
    "plt.colorbar()\n",
    "plt.title(\"Similarity matrix\\n(1.0 is similar)\")"
   ]
  },
  {
   "cell_type": "code",
   "execution_count": null,
   "metadata": {},
   "outputs": [],
   "source": [
    "from sklearn.manifold import MDS\n",
    "from sklearn.metrics.pairwise import cosine_similarity\n",
    "\n",
    "mds = MDS(n_components=2, dissimilarity=\"precomputed\", random_state=2)\n",
    "pos = mds.fit_transform(1 - token_sim)"
   ]
  },
  {
   "cell_type": "code",
   "execution_count": null,
   "metadata": {},
   "outputs": [],
   "source": [
    "plt.scatter(pos[:, 0], pos[:, 1], s=6)"
   ]
  },
  {
   "cell_type": "code",
   "execution_count": null,
   "metadata": {},
   "outputs": [],
   "source": [
    "import hdbscan\n",
    "\n",
    "clusterer = hdbscan.HDBSCAN(min_cluster_size=2, min_samples=4, gen_min_span_tree=True)\n",
    "clusterer.fit(pos)"
   ]
  },
  {
   "cell_type": "code",
   "execution_count": null,
   "metadata": {},
   "outputs": [],
   "source": [
    "# ?hdbscan.HDBSCAN"
   ]
  },
  {
   "cell_type": "code",
   "execution_count": null,
   "metadata": {},
   "outputs": [],
   "source": [
    "import seaborn as sns\n",
    "sns.set_context('poster')\n",
    "sns.set_style('darkgrid')\n",
    "sns.set_color_codes()"
   ]
  },
  {
   "cell_type": "code",
   "execution_count": null,
   "metadata": {},
   "outputs": [],
   "source": [
    "# cluster_centers_indices = clusterer.exemplars_ # Library limitation: cannot get exemplars at the moment\n",
    "labels = clusterer.labels_\n",
    "cluster_centers_idx = np.unique(labels)\n",
    "unique_labels = np.unique(labels)\n",
    "n_clusters_ = len(cluster_centers_idx)"
   ]
  },
  {
   "cell_type": "code",
   "execution_count": null,
   "metadata": {},
   "outputs": [],
   "source": [
    "fig, ax = plt.subplots(figsize=(12,10))\n",
    "\n",
    "cm = plt.get_cmap('Set1')\n",
    "colors = [cm(1.0*i/n_clusters_) for i in range(n_clusters_)]\n",
    "\n",
    "count = 0\n",
    "# for each cluster get all members and plot with same color\n",
    "for cluster_idx, color in zip(range(n_clusters_), colors):\n",
    "    in_cluster = labels == cluster_idx\n",
    "    cluster_set = pos[in_cluster]\n",
    "    \n",
    "    cluster_row = cluster_centers_idx[cluster_idx]\n",
    "    cluster_center = pos[cluster_row]\n",
    "    \n",
    "    exemplar = lith_desc.iat[cluster_row]\n",
    "    \n",
    "    # Plot cluster exemplar\n",
    "    ax.scatter(cluster_center[0], cluster_center[1], marker='o', c=color, s=100)\n",
    "    ax.annotate(\" \".join(exemplar.split()[:5]), (cluster_center[0], cluster_center[1]), alpha=1, fontsize=12)\n",
    "    \n",
    "    for i, txt in enumerate(lith_desc[in_cluster]):\n",
    "        if txt == exemplar:\n",
    "            continue\n",
    "            \n",
    "        x, y = cluster_set[i]\n",
    "        \n",
    "        # Plot cluster member\n",
    "        ax.scatter(x, y, marker='o', c=color, alpha=0.5, s=10)\n",
    "        \n",
    "        # Plot line between cluster exemplar and member\n",
    "        plt.plot([cluster_center[0], x], [cluster_center[1], y], c=color, \n",
    "                 linestyle='--', linewidth=0.5, alpha=0.6)\n",
    "    # End for\n",
    "    \n",
    "# End for\n",
    "\n",
    "plt.title(f\"Estimated number of clusters: {n_clusters_}\");\n"
   ]
  },
  {
   "cell_type": "code",
   "execution_count": null,
   "metadata": {},
   "outputs": [],
   "source": [
    "# TODO Move all this into functions\n",
    "\n",
    "# Write out results to csv\n",
    "res = {}\n",
    "\n",
    "for cluster_id in unique_labels:\n",
    "    cluster = cluster_centers_idx[cluster_id]\n",
    "    if cluster == -1:\n",
    "        exemplar = \"No cluster\"\n",
    "    else:\n",
    "        exemplar = lith_desc[cluster_centers_idx[cluster_id]]\n",
    "    cluster = np.unique(lith_desc[np.nonzero(labels == cluster_id)[0]])\n",
    "    res[exemplar] = \" | \".join(cluster)\n",
    "# End for\n",
    "\n",
    "res_df = pd.DataFrame([i for i in res.values()], index=res.keys(), columns=[\"Matches\"])\n",
    "res_df.index.name = \"Exemplar\"\n",
    "\n",
    "try:\n",
    "    res_df.to_csv(\"hdbscan_eg_output.csv\", index=True)\n",
    "except PermissionError:\n",
    "    raise PermissionError(\"ERROR OCCURRED - csv file is probably open in Excel. Close Excel and try again.\")\n",
    "# End try\n",
    "\n",
    "assert len(unique_labels) == len(res_df.index), \"Number of clusters do not match outputted cluster exemplars!\""
   ]
  },
  {
   "cell_type": "code",
   "execution_count": null,
   "metadata": {},
   "outputs": [],
   "source": []
  }
 ],
 "metadata": {
  "kernelspec": {
   "display_name": "Lith NLP",
   "language": "python",
   "name": "lith-nlp"
  },
  "language_info": {
   "codemirror_mode": {
    "name": "ipython",
    "version": 3
   },
   "file_extension": ".py",
   "mimetype": "text/x-python",
   "name": "python",
   "nbconvert_exporter": "python",
   "pygments_lexer": "ipython3",
   "version": "3.6.4"
  }
 },
 "nbformat": 4,
 "nbformat_minor": 2
}
